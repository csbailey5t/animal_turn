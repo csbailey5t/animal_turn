{
 "cells": [
  {
   "cell_type": "code",
   "execution_count": 11,
   "metadata": {},
   "outputs": [],
   "source": [
    "import requests\n",
    "import json"
   ]
  },
  {
   "cell_type": "code",
   "execution_count": 4,
   "metadata": {},
   "outputs": [],
   "source": [
    "collection_url = \"https://d.lib.ncsu.edu/collections/catalog/manifest?f[fulltext_bs][]=true&f[ispartof_facet][]=Animal+Turn&page=1\""
   ]
  },
  {
   "cell_type": "code",
   "execution_count": null,
   "metadata": {},
   "outputs": [],
   "source": [
    "single_url = \"https://d.lib.ncsu.edu/collections/catalog/mc00456-001-bx0004-004-001/manifest\""
   ]
  },
  {
   "cell_type": "code",
   "execution_count": 5,
   "metadata": {},
   "outputs": [],
   "source": [
    "# Add &page=1 to get the first page manifest\n",
    "collection_base_url = \"https://d.lib.ncsu.edu/collections/catalog/manifest/page?f%5Bfulltext_bs%5D%5B%5D=true&f%5Bispartof_facet%5D%5B%5D=Animal+Turn&page=1\""
   ]
  },
  {
   "cell_type": "code",
   "execution_count": 12,
   "metadata": {},
   "outputs": [],
   "source": [
    "res = requests.get(collection_base_url)\n",
    "data = res.content"
   ]
  },
  {
   "cell_type": "code",
   "execution_count": 19,
   "metadata": {
    "tags": []
   },
   "outputs": [
    {
     "output_type": "execute_result",
     "data": {
      "text/plain": "[{'@id': 'https://d.lib.ncsu.edu/collections/catalog/mc00456-001-bx0004-004-001/manifest',\n  '@type': 'sc:Manifest',\n  'label': '\"In at the death\": Freeman on cruelty in sport',\n  'dcterms:modified': '2020-01-25T05:47:13Z'},\n {'@id': 'https://d.lib.ncsu.edu/collections/catalog/mc00344_118824_20200131_1256/manifest',\n  '@type': 'sc:Manifest',\n  'label': '\"Some Uses of Laboratory Animals\"',\n  'dcterms:modified': '2020-02-17T13:59:09Z'},\n {'@id': 'https://d.lib.ncsu.edu/collections/catalog/mc00456-001-bx0006-034-001/manifest',\n  '@type': 'sc:Manifest',\n  'label': '\"The Times\" article on the results of experiments on living animals',\n  'dcterms:modified': '2020-01-25T05:47:57Z'},\n {'@id': 'https://d.lib.ncsu.edu/collections/catalog/mc00456-001-bx0007-013-001/manifest',\n  '@type': 'sc:Manifest',\n  'label': 'A bill for the abolition of vivisection',\n  'dcterms:modified': '2020-01-25T05:47:35Z'},\n {'@id': 'https://d.lib.ncsu.edu/collections/catalog/mc00456-001-bx0002-009-001/manifest',\n  '@type': 'sc:Manifest',\n  'label': 'A call for more helpers',\n  'dcterms:modified': '2020-01-25T05:42:18Z'},\n {'@id': 'https://d.lib.ncsu.edu/collections/catalog/mc00456-001-bx0002-023-001/manifest',\n  '@type': 'sc:Manifest',\n  'label': 'A concise handbook on cruel sports',\n  'dcterms:modified': '2020-01-25T05:42:22Z'},\n {'@id': 'https://d.lib.ncsu.edu/collections/catalog/mc00456-001-bx0002-024-001/manifest',\n  '@type': 'sc:Manifest',\n  'label': 'A correspondence in \"The Daily Mail\" between Sir Victor Horsely and Dr. Walter R. Hadwen on vivisection, September 1908',\n  'dcterms:modified': '2020-01-25T05:42:23Z'},\n {'@id': 'https://d.lib.ncsu.edu/collections/catalog/mc00620-001-bx0001-034-001/manifest',\n  '@type': 'sc:Manifest',\n  'label': 'A dangerous ideal',\n  'dcterms:modified': '2020-01-25T05:27:06Z'},\n {'@id': 'https://d.lib.ncsu.edu/collections/catalog/mc00456-001-bx0002-042-001/manifest',\n  '@type': 'sc:Manifest',\n  'label': 'A debate on is vivisection immoral, cruel, useless and unscientific?',\n  'dcterms:modified': '2020-01-25T05:42:35Z'},\n {'@id': 'https://d.lib.ncsu.edu/collections/catalog/mc00456-001-bx0002-043-001/manifest',\n  '@type': 'sc:Manifest',\n  'label': 'A debate on should vivisection be abolished?',\n  'dcterms:modified': '2020-01-25T05:42:36Z'},\n {'@id': 'https://d.lib.ncsu.edu/collections/catalog/mc00620-001-bx0001-063-001/manifest',\n  '@type': 'sc:Manifest',\n  'label': 'A letter to children',\n  'dcterms:modified': '2020-01-25T05:27:15Z'},\n {'@id': 'https://d.lib.ncsu.edu/collections/catalog/mc00620-001-bx0001-064-001/manifest',\n  '@type': 'sc:Manifest',\n  'label': 'A little mourner never forgotten',\n  'dcterms:modified': '2020-01-25T05:27:15Z'},\n {'@id': 'https://d.lib.ncsu.edu/collections/catalog/mc00456-001-bx0004-035-001/manifest',\n  '@type': 'sc:Manifest',\n  'label': 'A mean and barbarous insurance against the possibility of damage',\n  'dcterms:modified': '2020-01-25T05:47:23Z'},\n {'@id': 'https://d.lib.ncsu.edu/collections/catalog/mc00620-001-bx0001-071-001/manifest',\n  '@type': 'sc:Manifest',\n  'label': 'A message to every child - from every animal',\n  'dcterms:modified': '2020-01-25T05:27:18Z'},\n {'@id': 'https://d.lib.ncsu.edu/collections/catalog/mc00620-001-hb0002-019-005/manifest',\n  '@type': 'sc:Manifest',\n  'label': 'A message to every child--from every animal',\n  'dcterms:modified': '2020-01-25T05:26:49Z'},\n {'@id': 'https://d.lib.ncsu.edu/collections/catalog/mc00620-001-bx0001-081-001/manifest',\n  '@type': 'sc:Manifest',\n  'label': 'A plea for the helpless',\n  'dcterms:modified': '2020-01-25T05:27:21Z'},\n {'@id': 'https://d.lib.ncsu.edu/collections/catalog/mc00456-001-bx0005-034-001/manifest',\n  '@type': 'sc:Manifest',\n  'label': 'A reply to an article by Rev. L. Wallace in the Westminster Review, March, 1892',\n  'dcterms:modified': '2020-01-25T05:48:16Z'},\n {'@id': 'https://d.lib.ncsu.edu/collections/catalog/mc00456-001-bx0005-035-001/manifest',\n  '@type': 'sc:Manifest',\n  'label': 'A reply to Professor Schafer on the subject of \"the origin of life\"',\n  'dcterms:modified': '2020-01-25T05:48:17Z'},\n {'@id': 'https://d.lib.ncsu.edu/collections/catalog/mc00456-001-bx0005-040-001/manifest',\n  '@type': 'sc:Manifest',\n  'label': 'A review and refutation of the principal claims made on behalf of vivisection research',\n  'dcterms:modified': '2020-01-25T05:48:19Z'},\n {'@id': 'https://d.lib.ncsu.edu/collections/catalog/mc00456-001-bx0006-011-001/manifest',\n  '@type': 'sc:Manifest',\n  'label': 'A savage sport: the case against coursing',\n  'dcterms:modified': '2020-01-25T05:47:42Z'}]"
     },
     "metadata": {},
     "execution_count": 19
    }
   ],
   "source": [
    "manifest = json.loads(data)\n",
    "manifest[\"members\"]"
   ]
  },
  {
   "cell_type": "code",
   "execution_count": 25,
   "metadata": {},
   "outputs": [],
   "source": [
    "def get_id_from_url(url):\n",
    "    chunks = url.split(\"/\")\n",
    "    return chunks[-2]"
   ]
  },
  {
   "cell_type": "code",
   "execution_count": 27,
   "metadata": {},
   "outputs": [],
   "source": [
    "def get_ids_from_manifest(manifest_url):\n",
    "    res = requests.get(collection_base_url)\n",
    "    data = res.content\n",
    "    manifest = json.loads(data)\n",
    "    ids = [get_id_from_url(item[\"@id\"]) for item in manifest[\"members\"]]\n",
    "    return ids"
   ]
  },
  {
   "cell_type": "code",
   "execution_count": null,
   "metadata": {},
   "outputs": [],
   "source": []
  },
  {
   "cell_type": "code",
   "execution_count": null,
   "metadata": {},
   "outputs": [],
   "source": []
  },
  {
   "cell_type": "code",
   "execution_count": 28,
   "metadata": {},
   "outputs": [
    {
     "output_type": "execute_result",
     "data": {
      "text/plain": "['mc00456-001-bx0004-004-001',\n 'mc00344_118824_20200131_1256',\n 'mc00456-001-bx0006-034-001',\n 'mc00456-001-bx0007-013-001',\n 'mc00456-001-bx0002-009-001',\n 'mc00456-001-bx0002-023-001',\n 'mc00456-001-bx0002-024-001',\n 'mc00620-001-bx0001-034-001',\n 'mc00456-001-bx0002-042-001',\n 'mc00456-001-bx0002-043-001',\n 'mc00620-001-bx0001-063-001',\n 'mc00620-001-bx0001-064-001',\n 'mc00456-001-bx0004-035-001',\n 'mc00620-001-bx0001-071-001',\n 'mc00620-001-hb0002-019-005',\n 'mc00620-001-bx0001-081-001',\n 'mc00456-001-bx0005-034-001',\n 'mc00456-001-bx0005-035-001',\n 'mc00456-001-bx0005-040-001',\n 'mc00456-001-bx0006-011-001']"
     },
     "metadata": {},
     "execution_count": 28
    }
   ],
   "source": [
    "get_ids_from_manifest(collection_base_url)"
   ]
  },
  {
   "cell_type": "code",
   "execution_count": 29,
   "metadata": {},
   "outputs": [],
   "source": [
    "def get_item_count(manifest_url):\n",
    "    data = requests.get(manifest_url).content\n",
    "    manifest = json.loads(data)\n",
    "    return manifest[\"total\"]"
   ]
  },
  {
   "cell_type": "code",
   "execution_count": 30,
   "metadata": {},
   "outputs": [
    {
     "output_type": "execute_result",
     "data": {
      "text/plain": "983"
     },
     "metadata": {},
     "execution_count": 30
    }
   ],
   "source": [
    "get_item_count(collection_url)"
   ]
  },
  {
   "cell_type": "code",
   "execution_count": null,
   "metadata": {},
   "outputs": [],
   "source": []
  }
 ],
 "metadata": {
  "language_info": {
   "codemirror_mode": {
    "name": "ipython",
    "version": 3
   },
   "file_extension": ".py",
   "mimetype": "text/x-python",
   "name": "python",
   "nbconvert_exporter": "python",
   "pygments_lexer": "ipython3",
   "version": "3.8.0-final"
  },
  "orig_nbformat": 2,
  "kernelspec": {
   "name": "python38064bitee5341a3dea54633ac05d0d728e05f7a",
   "display_name": "Python 3.8.0 64-bit"
  }
 },
 "nbformat": 4,
 "nbformat_minor": 2
}