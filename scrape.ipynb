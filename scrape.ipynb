{
 "cells": [
  {
   "cell_type": "code",
   "execution_count": 20,
   "metadata": {},
   "outputs": [],
   "source": [
    "import requests\n",
    "import json\n",
    "import math\n",
    "from itertools import chain"
   ]
  },
  {
   "cell_type": "code",
   "execution_count": 3,
   "metadata": {},
   "outputs": [],
   "source": [
    "collection_url = \"https://d.lib.ncsu.edu/collections/catalog/manifest?f[fulltext_bs][]=true&f[ispartof_facet][]=Animal+Turn&page=1\""
   ]
  },
  {
   "cell_type": "code",
   "execution_count": 4,
   "metadata": {},
   "outputs": [],
   "source": [
    "single_url = \"https://d.lib.ncsu.edu/collections/catalog/mc00456-001-bx0004-004-001/manifest\""
   ]
  },
  {
   "cell_type": "code",
   "execution_count": 5,
   "metadata": {},
   "outputs": [],
   "source": [
    "# Add &page=1 to get the first page manifest\n",
    "collection_base_url = \"https://d.lib.ncsu.edu/collections/catalog/manifest/page?f%5Bfulltext_bs%5D%5B%5D=true&f%5Bispartof_facet%5D%5B%5D=Animal+Turn&page=1\""
   ]
  },
  {
   "cell_type": "code",
   "execution_count": 6,
   "metadata": {},
   "outputs": [],
   "source": [
    "res = requests.get(collection_base_url)\n",
    "data = res.content"
   ]
  },
  {
   "cell_type": "code",
   "execution_count": 7,
   "metadata": {
    "tags": []
   },
   "outputs": [
    {
     "output_type": "execute_result",
     "data": {
      "text/plain": "[{'@id': 'https://d.lib.ncsu.edu/collections/catalog/mc00456-001-bx0004-004-001/manifest',\n  '@type': 'sc:Manifest',\n  'label': '\"In at the death\": Freeman on cruelty in sport',\n  'dcterms:modified': '2020-01-25T05:47:13Z'},\n {'@id': 'https://d.lib.ncsu.edu/collections/catalog/mc00344_118824_20200131_1256/manifest',\n  '@type': 'sc:Manifest',\n  'label': '\"Some Uses of Laboratory Animals\"',\n  'dcterms:modified': '2020-02-17T13:59:09Z'},\n {'@id': 'https://d.lib.ncsu.edu/collections/catalog/mc00456-001-bx0006-034-001/manifest',\n  '@type': 'sc:Manifest',\n  'label': '\"The Times\" article on the results of experiments on living animals',\n  'dcterms:modified': '2020-01-25T05:47:57Z'},\n {'@id': 'https://d.lib.ncsu.edu/collections/catalog/mc00456-001-bx0007-013-001/manifest',\n  '@type': 'sc:Manifest',\n  'label': 'A bill for the abolition of vivisection',\n  'dcterms:modified': '2020-01-25T05:47:35Z'},\n {'@id': 'https://d.lib.ncsu.edu/collections/catalog/mc00456-001-bx0002-009-001/manifest',\n  '@type': 'sc:Manifest',\n  'label': 'A call for more helpers',\n  'dcterms:modified': '2020-01-25T05:42:18Z'},\n {'@id': 'https://d.lib.ncsu.edu/collections/catalog/mc00456-001-bx0002-023-001/manifest',\n  '@type': 'sc:Manifest',\n  'label': 'A concise handbook on cruel sports',\n  'dcterms:modified': '2020-01-25T05:42:22Z'},\n {'@id': 'https://d.lib.ncsu.edu/collections/catalog/mc00456-001-bx0002-024-001/manifest',\n  '@type': 'sc:Manifest',\n  'label': 'A correspondence in \"The Daily Mail\" between Sir Victor Horsely and Dr. Walter R. Hadwen on vivisection, September 1908',\n  'dcterms:modified': '2020-01-25T05:42:23Z'},\n {'@id': 'https://d.lib.ncsu.edu/collections/catalog/mc00620-001-bx0001-034-001/manifest',\n  '@type': 'sc:Manifest',\n  'label': 'A dangerous ideal',\n  'dcterms:modified': '2020-01-25T05:27:06Z'},\n {'@id': 'https://d.lib.ncsu.edu/collections/catalog/mc00456-001-bx0002-042-001/manifest',\n  '@type': 'sc:Manifest',\n  'label': 'A debate on is vivisection immoral, cruel, useless and unscientific?',\n  'dcterms:modified': '2020-01-25T05:42:35Z'},\n {'@id': 'https://d.lib.ncsu.edu/collections/catalog/mc00456-001-bx0002-043-001/manifest',\n  '@type': 'sc:Manifest',\n  'label': 'A debate on should vivisection be abolished?',\n  'dcterms:modified': '2020-01-25T05:42:36Z'},\n {'@id': 'https://d.lib.ncsu.edu/collections/catalog/mc00620-001-bx0001-063-001/manifest',\n  '@type': 'sc:Manifest',\n  'label': 'A letter to children',\n  'dcterms:modified': '2020-01-25T05:27:15Z'},\n {'@id': 'https://d.lib.ncsu.edu/collections/catalog/mc00620-001-bx0001-064-001/manifest',\n  '@type': 'sc:Manifest',\n  'label': 'A little mourner never forgotten',\n  'dcterms:modified': '2020-01-25T05:27:15Z'},\n {'@id': 'https://d.lib.ncsu.edu/collections/catalog/mc00456-001-bx0004-035-001/manifest',\n  '@type': 'sc:Manifest',\n  'label': 'A mean and barbarous insurance against the possibility of damage',\n  'dcterms:modified': '2020-01-25T05:47:23Z'},\n {'@id': 'https://d.lib.ncsu.edu/collections/catalog/mc00620-001-bx0001-071-001/manifest',\n  '@type': 'sc:Manifest',\n  'label': 'A message to every child - from every animal',\n  'dcterms:modified': '2020-01-25T05:27:18Z'},\n {'@id': 'https://d.lib.ncsu.edu/collections/catalog/mc00620-001-hb0002-019-005/manifest',\n  '@type': 'sc:Manifest',\n  'label': 'A message to every child--from every animal',\n  'dcterms:modified': '2020-01-25T05:26:49Z'},\n {'@id': 'https://d.lib.ncsu.edu/collections/catalog/mc00620-001-bx0001-081-001/manifest',\n  '@type': 'sc:Manifest',\n  'label': 'A plea for the helpless',\n  'dcterms:modified': '2020-01-25T05:27:21Z'},\n {'@id': 'https://d.lib.ncsu.edu/collections/catalog/mc00456-001-bx0005-034-001/manifest',\n  '@type': 'sc:Manifest',\n  'label': 'A reply to an article by Rev. L. Wallace in the Westminster Review, March, 1892',\n  'dcterms:modified': '2020-01-25T05:48:16Z'},\n {'@id': 'https://d.lib.ncsu.edu/collections/catalog/mc00456-001-bx0005-035-001/manifest',\n  '@type': 'sc:Manifest',\n  'label': 'A reply to Professor Schafer on the subject of \"the origin of life\"',\n  'dcterms:modified': '2020-01-25T05:48:17Z'},\n {'@id': 'https://d.lib.ncsu.edu/collections/catalog/mc00456-001-bx0005-040-001/manifest',\n  '@type': 'sc:Manifest',\n  'label': 'A review and refutation of the principal claims made on behalf of vivisection research',\n  'dcterms:modified': '2020-01-25T05:48:19Z'},\n {'@id': 'https://d.lib.ncsu.edu/collections/catalog/mc00456-001-bx0006-011-001/manifest',\n  '@type': 'sc:Manifest',\n  'label': 'A savage sport: the case against coursing',\n  'dcterms:modified': '2020-01-25T05:47:42Z'}]"
     },
     "metadata": {},
     "execution_count": 7
    }
   ],
   "source": [
    "manifest = json.loads(data)\n",
    "manifest[\"members\"]"
   ]
  },
  {
   "cell_type": "code",
   "execution_count": 8,
   "metadata": {},
   "outputs": [],
   "source": [
    "def get_id_from_url(url):\n",
    "    chunks = url.split(\"/\")\n",
    "    return chunks[-2]"
   ]
  },
  {
   "cell_type": "code",
   "execution_count": 30,
   "metadata": {},
   "outputs": [],
   "source": [
    "def get_ids_from_manifest(manifest_url):\n",
    "    res = requests.get(manifest_url)\n",
    "    data = res.content\n",
    "    manifest = json.loads(data)\n",
    "    ids = [get_id_from_url(item[\"@id\"]) for item in manifest[\"members\"]]\n",
    "    return ids"
   ]
  },
  {
   "cell_type": "code",
   "execution_count": 10,
   "metadata": {},
   "outputs": [
    {
     "output_type": "execute_result",
     "data": {
      "text/plain": "['mc00456-001-bx0004-004-001',\n 'mc00344_118824_20200131_1256',\n 'mc00456-001-bx0006-034-001',\n 'mc00456-001-bx0007-013-001',\n 'mc00456-001-bx0002-009-001',\n 'mc00456-001-bx0002-023-001',\n 'mc00456-001-bx0002-024-001',\n 'mc00620-001-bx0001-034-001',\n 'mc00456-001-bx0002-042-001',\n 'mc00456-001-bx0002-043-001',\n 'mc00620-001-bx0001-063-001',\n 'mc00620-001-bx0001-064-001',\n 'mc00456-001-bx0004-035-001',\n 'mc00620-001-bx0001-071-001',\n 'mc00620-001-hb0002-019-005',\n 'mc00620-001-bx0001-081-001',\n 'mc00456-001-bx0005-034-001',\n 'mc00456-001-bx0005-035-001',\n 'mc00456-001-bx0005-040-001',\n 'mc00456-001-bx0006-011-001']"
     },
     "metadata": {},
     "execution_count": 10
    }
   ],
   "source": [
    "get_ids_from_manifest(collection_base_url)"
   ]
  },
  {
   "cell_type": "code",
   "execution_count": 11,
   "metadata": {},
   "outputs": [],
   "source": [
    "def get_item_count(manifest_url):\n",
    "    data = requests.get(manifest_url).content\n",
    "    manifest = json.loads(data)\n",
    "    return manifest[\"total\"]"
   ]
  },
  {
   "cell_type": "code",
   "execution_count": 12,
   "metadata": {},
   "outputs": [
    {
     "output_type": "execute_result",
     "data": {
      "text/plain": "983"
     },
     "metadata": {},
     "execution_count": 12
    }
   ],
   "source": [
    "get_item_count(collection_url)"
   ]
  },
  {
   "cell_type": "code",
   "execution_count": 13,
   "metadata": {},
   "outputs": [
    {
     "output_type": "execute_result",
     "data": {
      "text/plain": "49.15"
     },
     "metadata": {},
     "execution_count": 13
    }
   ],
   "source": [
    "num_pages = get_item_count(collection_url) / 20\n",
    "num_pages"
   ]
  },
  {
   "cell_type": "code",
   "execution_count": 31,
   "metadata": {},
   "outputs": [],
   "source": [
    "all_ids = []\n",
    "for page in range(1, math.ceil(num_pages) + 1):\n",
    "    url = f\"https://d.lib.ncsu.edu/collections/catalog/manifest/page?f%5Bfulltext_bs%5D%5B%5D=true&f%5Bispartof_facet%5D%5B%5D=Animal+Turn&page={page}\"\n",
    "    ids =get_ids_from_manifest(url)\n",
    "    all_ids.append(ids)"
   ]
  },
  {
   "cell_type": "code",
   "execution_count": 32,
   "metadata": {},
   "outputs": [],
   "source": [
    "all_ids_flat = list(chain(*all_ids))"
   ]
  },
  {
   "cell_type": "code",
   "execution_count": 33,
   "metadata": {},
   "outputs": [
    {
     "output_type": "execute_result",
     "data": {
      "text/plain": "983"
     },
     "metadata": {},
     "execution_count": 33
    }
   ],
   "source": [
    "len(all_ids_flat)"
   ]
  },
  {
   "cell_type": "code",
   "execution_count": 34,
   "metadata": {},
   "outputs": [
    {
     "output_type": "execute_result",
     "data": {
      "text/plain": "983"
     },
     "metadata": {},
     "execution_count": 34
    }
   ],
   "source": [
    "len(set(all_ids_flat))"
   ]
  },
  {
   "cell_type": "code",
   "execution_count": 39,
   "metadata": {},
   "outputs": [],
   "source": [
    "ocr_link_example = \"https://ocr.lib.ncsu.edu/ocr/mc/mc00456-001-bx0004-004-001/mc00456-001-bx0004-004-001.txt\""
   ]
  },
  {
   "cell_type": "code",
   "execution_count": 51,
   "metadata": {},
   "outputs": [
    {
     "output_type": "execute_result",
     "data": {
      "text/plain": "['https://ocr.lib.ncsu.edu/ocr/mc/mc00344-001-bx0001_1-008-000/mc00344-001-bx0001_1-008-000.txt',\n 'https://ocr.lib.ncsu.edu/ocr/mc/mc00344-001-bx0001_1-006-000/mc00344-001-bx0001_1-006-000.txt',\n 'https://ocr.lib.ncsu.edu/ocr/mc/mc00344-001-bx0001_1-007-000/mc00344-001-bx0001_1-007-000.txt',\n 'https://ocr.lib.ncsu.edu/ocr/mc/mc00344-001-bx0001_2-001-000/mc00344-001-bx0001_2-001-000.txt',\n 'https://ocr.lib.ncsu.edu/ocr/mc/mc00344-001-bx0001_2-002-000/mc00344-001-bx0001_2-002-000.txt',\n 'https://ocr.lib.ncsu.edu/ocr/mc/mc00620-001-bx0001-008-001/mc00620-001-bx0001-008-001.txt',\n 'https://ocr.lib.ncsu.edu/ocr/mc/mc00620-001-bx0001-011-002/mc00620-001-bx0001-011-002.txt',\n 'https://ocr.lib.ncsu.edu/ocr/mc/mc00620-001-bx0001-011-001/mc00620-001-bx0001-011-001.txt',\n 'https://ocr.lib.ncsu.edu/ocr/mc/mc00456-001-bx0005-007-004/mc00456-001-bx0005-007-004.txt',\n 'https://ocr.lib.ncsu.edu/ocr/mc/mc00620-001-hb0002-018-004/mc00620-001-hb0002-018-004.txt',\n 'https://ocr.lib.ncsu.edu/ocr/mc/mc00620-001-hb0002-020-010/mc00620-001-hb0002-020-010.txt',\n 'https://ocr.lib.ncsu.edu/ocr/mc/mc00620-001-bx0001-056-001/mc00620-001-bx0001-056-001.txt',\n 'https://ocr.lib.ncsu.edu/ocr/mc/mc00456-001-bx0007-005-001/mc00456-001-bx0007-005-001.txt',\n 'https://ocr.lib.ncsu.edu/ocr/mc/mc00344-001-bx0001_2-003-000/mc00344-001-bx0001_2-003-000.txt',\n 'https://ocr.lib.ncsu.edu/ocr/mc/aspca_20200227_2492/aspca_20200227_2492.txt',\n 'https://ocr.lib.ncsu.edu/ocr/mc/mc00344-001-bx0001_2-004-000/mc00344-001-bx0001_2-004-000.txt',\n 'https://ocr.lib.ncsu.edu/ocr/mc/mc00344-001-bx0001_2-005-000/mc00344-001-bx0001_2-005-000.txt',\n 'https://ocr.lib.ncsu.edu/ocr/mc/mc00620-001-bx0001-007-001/mc00620-001-bx0001-007-001.txt',\n 'https://ocr.lib.ncsu.edu/ocr/mc/mc00620-001-bx0001-007-002/mc00620-001-bx0001-007-002.txt',\n 'https://ocr.lib.ncsu.edu/ocr/mc/aspca_20200305_2932/aspca_20200305_2932.txt',\n 'https://ocr.lib.ncsu.edu/ocr/mc/aspca_20200303_2897/aspca_20200303_2897.txt',\n 'https://ocr.lib.ncsu.edu/ocr/mc/aspca_20200305_3032/aspca_20200305_3032.txt',\n 'https://ocr.lib.ncsu.edu/ocr/mc/aspca_20200309_3387/aspca_20200309_3387.txt',\n 'https://ocr.lib.ncsu.edu/ocr/mc/aspca_20200310_3512/aspca_20200310_3512.txt',\n 'https://ocr.lib.ncsu.edu/ocr/mc/aspca_20200228_2617/aspca_20200228_2617.txt',\n 'https://ocr.lib.ncsu.edu/ocr/mc/aspca_20200305_2952/aspca_20200305_2952.txt',\n 'https://ocr.lib.ncsu.edu/ocr/mc/aspca_20200305_3087/aspca_20200305_3087.txt',\n 'https://ocr.lib.ncsu.edu/ocr/mc/aspca_20200303_2782/aspca_20200303_2782.txt',\n 'https://ocr.lib.ncsu.edu/ocr/mc/aspca_20200228_2612/aspca_20200228_2612.txt',\n 'https://ocr.lib.ncsu.edu/ocr/mc/aspca_20200302_2652/aspca_20200302_2652.txt',\n 'https://ocr.lib.ncsu.edu/ocr/mc/aspca_20200302_2682/aspca_20200302_2682.txt',\n 'https://ocr.lib.ncsu.edu/ocr/mc/aspca_20200303_2852/aspca_20200303_2852.txt',\n 'https://ocr.lib.ncsu.edu/ocr/mc/aspca_20200305_2977/aspca_20200305_2977.txt',\n 'https://ocr.lib.ncsu.edu/ocr/mc/aspca_20200309_3352/aspca_20200309_3352.txt',\n 'https://ocr.lib.ncsu.edu/ocr/mc/aspca_20200303_2752/aspca_20200303_2752.txt',\n 'https://ocr.lib.ncsu.edu/ocr/mc/aspca_20200228_2637/aspca_20200228_2637.txt',\n 'https://ocr.lib.ncsu.edu/ocr/mc/aspca_20200302_2667/aspca_20200302_2667.txt',\n 'https://ocr.lib.ncsu.edu/ocr/mc/aspca_20200302_2692/aspca_20200302_2692.txt',\n 'https://ocr.lib.ncsu.edu/ocr/mc/aspca_20200303_2877/aspca_20200303_2877.txt',\n 'https://ocr.lib.ncsu.edu/ocr/mc/aspca_20200305_2997/aspca_20200305_2997.txt']"
     },
     "metadata": {},
     "execution_count": 51
    }
   ],
   "source": [
    "ocr_links = [f\"https://ocr.lib.ncsu.edu/ocr/mc/{id}/{id}.txt\" for id in all_ids_flat]\n",
    "ocr_links[40:80]"
   ]
  },
  {
   "cell_type": "code",
   "execution_count": 53,
   "metadata": {
    "tags": []
   },
   "outputs": [],
   "source": [
    "# NOTE: This is a hack. There are two \"prefixes\" in the url scheme for the collection\n",
    "# To get all OCR files, you have to run this for loop twice once with \"as\" and once with \"mc\"\n",
    "for id in all_ids_flat:\n",
    "    if id[:2] == \"as\":\n",
    "        url = f\"https://ocr.lib.ncsu.edu/ocr/as/{id}/{id}.txt\"\n",
    "        res = requests.get(url)\n",
    "        with open(f\"texts/{id}.txt\", 'wb') as f:\n",
    "            f.write(res.content)\n",
    "     "
   ]
  },
  {
   "cell_type": "code",
   "execution_count": 49,
   "metadata": {},
   "outputs": [],
   "source": [
    "import glob"
   ]
  },
  {
   "cell_type": "code",
   "execution_count": 50,
   "metadata": {},
   "outputs": [
    {
     "output_type": "execute_result",
     "data": {
      "text/plain": "983"
     },
     "metadata": {},
     "execution_count": 50
    }
   ],
   "source": [
    "len(glob.glob(\"texts/*.txt\"))"
   ]
  },
  {
   "cell_type": "code",
   "execution_count": null,
   "metadata": {},
   "outputs": [],
   "source": []
  }
 ],
 "metadata": {
  "language_info": {
   "codemirror_mode": {
    "name": "ipython",
    "version": 3
   },
   "file_extension": ".py",
   "mimetype": "text/x-python",
   "name": "python",
   "nbconvert_exporter": "python",
   "pygments_lexer": "ipython3",
   "version": "3.8.0-final"
  },
  "orig_nbformat": 2,
  "kernelspec": {
   "name": "python38064bitee5341a3dea54633ac05d0d728e05f7a",
   "display_name": "Python 3.8.0 64-bit"
  }
 },
 "nbformat": 4,
 "nbformat_minor": 2
}